{
  "nbformat": 4,
  "nbformat_minor": 0,
  "metadata": {
    "colab": {
      "name": " Superhero Name Generator - Learner.ipynb",
      "provenance": [],
      "collapsed_sections": [],
      "include_colab_link": true
    },
    "kernelspec": {
      "display_name": "Python 3",
      "language": "python",
      "name": "python3"
    },
    "language_info": {
      "codemirror_mode": {
        "name": "ipython",
        "version": 3
      },
      "file_extension": ".py",
      "mimetype": "text/x-python",
      "name": "python",
      "nbconvert_exporter": "python",
      "pygments_lexer": "ipython3",
      "version": "3.8.3"
    },
    "accelerator": "GPU"
  },
  "cells": [
    {
      "cell_type": "markdown",
      "metadata": {
        "id": "view-in-github",
        "colab_type": "text"
      },
      "source": [
        "<a href=\"https://colab.research.google.com/github/farhan1503001/Deep-Learning-Rhyme-Projects/blob/main/Superhero_Name_Generator_Learner.ipynb\" target=\"_parent\"><img src=\"https://colab.research.google.com/assets/colab-badge.svg\" alt=\"Open In Colab\"/></a>"
      ]
    },
    {
      "cell_type": "markdown",
      "metadata": {
        "id": "21XXWP7Fpt2L"
      },
      "source": [
        "# Superhero (and Supervillain) Name Generator\n",
        "\n",
        "---\n",
        "\n",
        "[Superhero Names Dataset](https://github.com/am1tyadav/superhero)"
      ]
    },
    {
      "cell_type": "markdown",
      "metadata": {
        "id": "H6P0NU5Cpt2R"
      },
      "source": [
        "## Task 2\n",
        "\n",
        "1. Import the data\n",
        "2. Create a tokenizer\n",
        "3. Char to index and Index to char dictionaries"
      ]
    },
    {
      "cell_type": "code",
      "metadata": {
        "id": "srULhalZpt2M",
        "colab": {
          "base_uri": "https://localhost:8080/"
        },
        "outputId": "fd064d8e-9df2-47fa-9cb4-9db6fe84e4ee"
      },
      "source": [
        "!git clone https://github.com/am1tyadav/superhero"
      ],
      "execution_count": 1,
      "outputs": [
        {
          "output_type": "stream",
          "text": [
            "Cloning into 'superhero'...\n",
            "remote: Enumerating objects: 8, done.\u001b[K\n",
            "remote: Counting objects: 100% (8/8), done.\u001b[K\n",
            "remote: Compressing objects: 100% (7/7), done.\u001b[K\n",
            "remote: Total 8 (delta 0), reused 4 (delta 0), pack-reused 0\u001b[K\n",
            "Unpacking objects: 100% (8/8), done.\n"
          ],
          "name": "stdout"
        }
      ]
    },
    {
      "cell_type": "code",
      "metadata": {
        "id": "uq4CLmsLpt2P",
        "colab": {
          "base_uri": "https://localhost:8080/",
          "height": 54
        },
        "outputId": "ac36b538-2fc5-4887-b39c-1661d03645d3"
      },
      "source": [
        "with open(file='/content/superhero/superheroes.txt',mode='r') as reader:\n",
        "  data=reader.read()\n",
        "data[:100]"
      ],
      "execution_count": 2,
      "outputs": [
        {
          "output_type": "execute_result",
          "data": {
            "application/vnd.google.colaboratory.intrinsic+json": {
              "type": "string"
            },
            "text/plain": [
              "'jumpa\\t\\ndoctor fate\\t\\nstarlight\\t\\nisildur\\t\\nlasher\\t\\nvarvara\\t\\nthe target\\t\\naxel\\t\\nbattra\\t\\nchangeling\\t\\npyrrh'"
            ]
          },
          "metadata": {
            "tags": []
          },
          "execution_count": 2
        }
      ]
    },
    {
      "cell_type": "code",
      "metadata": {
        "id": "JqhtLuAHpt2R"
      },
      "source": [
        "import tensorflow as tf\n",
        "import numpy as np"
      ],
      "execution_count": 3,
      "outputs": []
    },
    {
      "cell_type": "code",
      "metadata": {
        "id": "95Lo1Yqzpt2T"
      },
      "source": [
        "tokenizer = tf.keras.preprocessing.text.Tokenizer(\n",
        "    filters='!\"#$%&()*+,-./:;<=>?@[\\\\]^_`{|}~',\n",
        "    split='\\n',\n",
        ")"
      ],
      "execution_count": 4,
      "outputs": []
    },
    {
      "cell_type": "code",
      "metadata": {
        "id": "qYfC4sj2pt2V"
      },
      "source": [
        "token_maker=tf.keras.preprocessing.text.Tokenizer(\n",
        "    filters='!#$%&()*+,-./:;<=>?@[\\\\]^_`{|}~',\n",
        "    split='\\n'\n",
        ")"
      ],
      "execution_count": 5,
      "outputs": []
    },
    {
      "cell_type": "code",
      "metadata": {
        "id": "EO4-dPM6pt2X"
      },
      "source": [
        "token_maker.fit_on_texts(data)"
      ],
      "execution_count": 6,
      "outputs": []
    },
    {
      "cell_type": "code",
      "metadata": {
        "colab": {
          "base_uri": "https://localhost:8080/"
        },
        "id": "WKlD46cGWpqw",
        "outputId": "f6ca9407-111b-4b66-b83c-35a321f6c6a2"
      },
      "source": [
        "char_to_index=token_maker.word_index\n",
        "index_to_char=dict((v,k) for k,v in char_to_index.items())\n",
        "\n",
        "print(index_to_char)\n",
        "print(char_to_index)"
      ],
      "execution_count": 7,
      "outputs": [
        {
          "output_type": "stream",
          "text": [
            "{1: '\\t', 2: 'a', 3: 'e', 4: 'r', 5: 'o', 6: 'n', 7: 'i', 8: ' ', 9: 't', 10: 's', 11: 'l', 12: 'm', 13: 'h', 14: 'd', 15: 'c', 16: 'u', 17: 'g', 18: 'k', 19: 'b', 20: 'p', 21: 'y', 22: 'w', 23: 'f', 24: 'v', 25: 'j', 26: 'z', 27: 'x', 28: 'q'}\n",
            "{'\\t': 1, 'a': 2, 'e': 3, 'r': 4, 'o': 5, 'n': 6, 'i': 7, ' ': 8, 't': 9, 's': 10, 'l': 11, 'm': 12, 'h': 13, 'd': 14, 'c': 15, 'u': 16, 'g': 17, 'k': 18, 'b': 19, 'p': 20, 'y': 21, 'w': 22, 'f': 23, 'v': 24, 'j': 25, 'z': 26, 'x': 27, 'q': 28}\n"
          ],
          "name": "stdout"
        }
      ]
    },
    {
      "cell_type": "markdown",
      "metadata": {
        "id": "SMwtIw_Bpt2Z"
      },
      "source": [
        "## Task 3\n",
        "\n",
        "1. Converting between names and sequences"
      ]
    },
    {
      "cell_type": "code",
      "metadata": {
        "id": "N7iQLIXzpt2a",
        "colab": {
          "base_uri": "https://localhost:8080/"
        },
        "outputId": "02da5cb3-12bf-4cdb-b52b-ba22ec8ca1ef"
      },
      "source": [
        "#Now spliting each item of dataset\n",
        "hero_names=data.splitlines()\n",
        "hero_names[:15]"
      ],
      "execution_count": 8,
      "outputs": [
        {
          "output_type": "execute_result",
          "data": {
            "text/plain": [
              "['jumpa\\t',\n",
              " 'doctor fate\\t',\n",
              " 'starlight\\t',\n",
              " 'isildur\\t',\n",
              " 'lasher\\t',\n",
              " 'varvara\\t',\n",
              " 'the target\\t',\n",
              " 'axel\\t',\n",
              " 'battra\\t',\n",
              " 'changeling\\t',\n",
              " 'pyrrha\\t',\n",
              " 'the rhino\\t',\n",
              " 'major glory\\t',\n",
              " 'drago\\t',\n",
              " 'king vegeta\\t']"
            ]
          },
          "metadata": {
            "tags": []
          },
          "execution_count": 8
        }
      ]
    },
    {
      "cell_type": "code",
      "metadata": {
        "id": "n_-TTfqipt2c",
        "colab": {
          "base_uri": "https://localhost:8080/"
        },
        "outputId": "17400874-5334-4079-843a-029394ca1687"
      },
      "source": [
        "hero_name_dataset=token_maker.texts_to_sequences(hero_names[0])\n",
        "hero_name_dataset[0][0]"
      ],
      "execution_count": 9,
      "outputs": [
        {
          "output_type": "execute_result",
          "data": {
            "text/plain": [
              "25"
            ]
          },
          "metadata": {
            "tags": []
          },
          "execution_count": 9
        }
      ]
    },
    {
      "cell_type": "code",
      "metadata": {
        "id": "P6IsKH1Upt2e"
      },
      "source": [
        "#Now we are writing a function which will transform the whole dataset to sequence form\n",
        "\n",
        "def seq_maker(text):\n",
        "  return [token_maker.texts_to_sequences(character)[0][0] for character in text]"
      ],
      "execution_count": 10,
      "outputs": []
    },
    {
      "cell_type": "code",
      "metadata": {
        "id": "TuLUiMP3pt2g",
        "colab": {
          "base_uri": "https://localhost:8080/"
        },
        "outputId": "2c887db3-5d45-4310-d693-4565905f39f2"
      },
      "source": [
        "print(seq_maker(hero_names[10]))"
      ],
      "execution_count": 11,
      "outputs": [
        {
          "output_type": "stream",
          "text": [
            "[20, 21, 4, 4, 13, 2, 1]\n"
          ],
          "name": "stdout"
        }
      ]
    },
    {
      "cell_type": "code",
      "metadata": {
        "id": "yFUYhimKpt2h"
      },
      "source": [
        "#Now writing completely opposite \n",
        "#Here for making characters into a name we are to join them with \\''\n",
        "def text_maker(seq):\n",
        "  return ''.join([index_to_char[i] for i in seq if i!=0])\n"
      ],
      "execution_count": 12,
      "outputs": []
    },
    {
      "cell_type": "code",
      "metadata": {
        "id": "ROhCqmhLpt2k",
        "colab": {
          "base_uri": "https://localhost:8080/"
        },
        "outputId": "d86443de-402a-4df0-f076-b087120adf98"
      },
      "source": [
        "print(text_maker(seq_maker(hero_names[10])))"
      ],
      "execution_count": 13,
      "outputs": [
        {
          "output_type": "stream",
          "text": [
            "pyrrha\t\n"
          ],
          "name": "stdout"
        }
      ]
    },
    {
      "cell_type": "markdown",
      "metadata": {
        "id": "uCbAzsNjpt2m"
      },
      "source": [
        "## Task 4\n",
        "\n",
        "1. Creating sequences\n",
        "2. Padding all sequences"
      ]
    },
    {
      "cell_type": "code",
      "metadata": {
        "id": "zstNn-0dpt2m",
        "colab": {
          "base_uri": "https://localhost:8080/",
          "height": 340
        },
        "outputId": "60a1dfe6-86dd-4e6a-bd3a-8059a4fed6ab"
      },
      "source": [
        "name_lengths=[len(x) for x in hero_names]\n",
        "import matplotlib.pyplot as plt\n",
        "plt.hist(name_lengths,bins=10)"
      ],
      "execution_count": 14,
      "outputs": [
        {
          "output_type": "execute_result",
          "data": {
            "text/plain": [
              "(array([ 672., 2406., 2414., 1990.,  981.,  387.,  121.,   57.,   16.,\n",
              "           9.]),\n",
              " array([ 3.,  6.,  9., 12., 15., 18., 21., 24., 27., 30., 33.]),\n",
              " <a list of 10 Patch objects>)"
            ]
          },
          "metadata": {
            "tags": []
          },
          "execution_count": 14
        },
        {
          "output_type": "display_data",
          "data": {
            "image/png": "[encoded data removed]",
            "text/plain": [
              "<Figure size 432x288 with 1 Axes>"
            ]
          },
          "metadata": {
            "tags": [],
            "needs_background": "light"
          }
        }
      ]
    },
    {
      "cell_type": "code",
      "metadata": {
        "id": "BjRTMysvpt2o"
      },
      "source": [
        "#Now making the dataset from hero_names dataset for making predictions\n",
        "sequences_dataset=[]\n",
        "for names in hero_names:\n",
        "  seq=seq_maker(names)\n",
        "  if len(seq)>=2:\n",
        "    sequences_dataset+=[seq[:i]for i in range(2,len(seq)+1)]"
      ],
      "execution_count": 15,
      "outputs": []
    },
    {
      "cell_type": "code",
      "metadata": {
        "id": "SR68pu2tpt2q",
        "colab": {
          "base_uri": "https://localhost:8080/"
        },
        "outputId": "311ae210-6e46-46a0-ef2e-10bc7f1292a1"
      },
      "source": [
        "#Now inspecting the new dataset\n",
        "sequences_dataset[:10]"
      ],
      "execution_count": 16,
      "outputs": [
        {
          "output_type": "execute_result",
          "data": {
            "text/plain": [
              "[[25, 16],\n",
              " [25, 16, 12],\n",
              " [25, 16, 12, 20],\n",
              " [25, 16, 12, 20, 2],\n",
              " [25, 16, 12, 20, 2, 1],\n",
              " [14, 5],\n",
              " [14, 5, 15],\n",
              " [14, 5, 15, 9],\n",
              " [14, 5, 15, 9, 5],\n",
              " [14, 5, 15, 9, 5, 4]]"
            ]
          },
          "metadata": {
            "tags": []
          },
          "execution_count": 16
        }
      ]
    },
    {
      "cell_type": "code",
      "metadata": {
        "id": "h_1BtWO7pt2r",
        "colab": {
          "base_uri": "https://localhost:8080/"
        },
        "outputId": "a73c605a-a2d9-45a6-fdc3-27f42987d116"
      },
      "source": [
        "max_length=max([len(x)for x in sequences_dataset])\n",
        "max_length"
      ],
      "execution_count": 17,
      "outputs": [
        {
          "output_type": "execute_result",
          "data": {
            "text/plain": [
              "33"
            ]
          },
          "metadata": {
            "tags": []
          },
          "execution_count": 17
        }
      ]
    },
    {
      "cell_type": "code",
      "metadata": {
        "id": "sPlrLRpSpt2t"
      },
      "source": [
        "#Now we have to perform padding for making all variables of same size\n",
        "#we will use pre-padding\n",
        "padded_sequences_dataset=tf.keras.preprocessing.sequence.pad_sequences(sequences_dataset,maxlen=max_length,padding='pre')"
      ],
      "execution_count": 18,
      "outputs": []
    },
    {
      "cell_type": "code",
      "metadata": {
        "colab": {
          "base_uri": "https://localhost:8080/"
        },
        "id": "lnAzi_6dJQo5",
        "outputId": "09330018-e241-41f8-cf08-5b21e7a5322c"
      },
      "source": [
        "print(len(padded_sequences_dataset))\n",
        "print(padded_sequences_dataset.shape)"
      ],
      "execution_count": 19,
      "outputs": [
        {
          "output_type": "stream",
          "text": [
            "88279\n",
            "(88279, 33)\n"
          ],
          "name": "stdout"
        }
      ]
    },
    {
      "cell_type": "code",
      "metadata": {
        "colab": {
          "base_uri": "https://localhost:8080/"
        },
        "id": "K2ZT2J6gJZ4M",
        "outputId": "49a01f49-3ad9-48ac-dfea-21ee995f33c9"
      },
      "source": [
        "padded_sequences_dataset[10]"
      ],
      "execution_count": 20,
      "outputs": [
        {
          "output_type": "execute_result",
          "data": {
            "text/plain": [
              "array([ 0,  0,  0,  0,  0,  0,  0,  0,  0,  0,  0,  0,  0,  0,  0,  0,  0,\n",
              "        0,  0,  0,  0,  0,  0,  0,  0,  0, 14,  5, 15,  9,  5,  4,  8],\n",
              "      dtype=int32)"
            ]
          },
          "metadata": {
            "tags": []
          },
          "execution_count": 20
        }
      ]
    },
    {
      "cell_type": "markdown",
      "metadata": {
        "id": "a0sCK-5blGng"
      },
      "source": [
        "## Task 5: Creating Training and Validation Sets\n",
        "\n",
        "1. Creating training and validation sets"
      ]
    },
    {
      "cell_type": "code",
      "metadata": {
        "id": "BE4BIeSnpt2v"
      },
      "source": [
        "#Here we set last character is the character to be predicted that's why it's a label\n",
        "#It also explains why we performed pre-padding\n",
        "text_dataset,labels=padded_sequences_dataset[:,:-1],padded_sequences_dataset[:,-1]"
      ],
      "execution_count": 21,
      "outputs": []
    },
    {
      "cell_type": "code",
      "metadata": {
        "id": "3xqmu__slGng",
        "colab": {
          "base_uri": "https://localhost:8080/"
        },
        "outputId": "ea6dab57-079b-4c13-d6ce-0ba02cf52363"
      },
      "source": [
        "#Now seeing the shape of text and labels\n",
        "print(\"Text dataset shapes : \",text_dataset.shape)\n",
        "print(\"Label dataset shapes : \",labels.shape)"
      ],
      "execution_count": 22,
      "outputs": [
        {
          "output_type": "stream",
          "text": [
            "Text dataset shapes :  (88279, 32)\n",
            "Label dataset shapes :  (88279,)\n"
          ],
          "name": "stdout"
        }
      ]
    },
    {
      "cell_type": "code",
      "metadata": {
        "id": "cgqRZtqnpt2x",
        "colab": {
          "base_uri": "https://localhost:8080/"
        },
        "outputId": "71c3da91-5624-4d30-87f0-2d0e124c3453"
      },
      "source": [
        "from sklearn.model_selection import train_test_split\n",
        "x_train,x_test,y_train,y_test=train_test_split(text_dataset,labels,test_size=0.2,random_state=42)\n",
        "print(\"Training data size: \",x_train.shape)\n",
        "print(\"Testing data size: \", x_test.shape)"
      ],
      "execution_count": 23,
      "outputs": [
        {
          "output_type": "stream",
          "text": [
            "Training data size:  (70623, 32)\n",
            "Testing data size:  (17656, 32)\n"
          ],
          "name": "stdout"
        }
      ]
    },
    {
      "cell_type": "code",
      "metadata": {
        "colab": {
          "base_uri": "https://localhost:8080/"
        },
        "id": "x-oSXlAkLZq2",
        "outputId": "759569b4-3410-4548-9897-dc4810a48753"
      },
      "source": [
        "#Now finding the length of character dictionary\n",
        "dict_size=len(char_to_index.items())+1\n",
        "print(dict_size)"
      ],
      "execution_count": 24,
      "outputs": [
        {
          "output_type": "stream",
          "text": [
            "29\n"
          ],
          "name": "stdout"
        }
      ]
    },
    {
      "cell_type": "markdown",
      "metadata": {
        "id": "ji-9YWyClGng"
      },
      "source": [
        "## Task 6: Creating the Model"
      ]
    },
    {
      "cell_type": "code",
      "metadata": {
        "id": "bq-HRkv4lGng"
      },
      "source": [
        "model=tf.keras.Sequential(\n",
        "    [\n",
        "     tf.keras.layers.Embedding(dict_size,output_dim=16,input_length=max_length-1),\n",
        "     tf.keras.layers.Conv1D(64,4,strides=1,padding='causal',activation='relu'),\n",
        "     tf.keras.layers.MaxPool1D(2),\n",
        "     tf.keras.layers.Bidirectional(tf.keras.layers.LSTM(32,return_sequences=True)),\n",
        "     tf.keras.layers.Bidirectional(tf.keras.layers.LSTM(32)),\n",
        "     tf.keras.layers.Dense(29,activation='softmax')\n",
        "     \n",
        "    ]\n",
        ")"
      ],
      "execution_count": 32,
      "outputs": []
    },
    {
      "cell_type": "code",
      "metadata": {
        "id": "Nd9taMZFPgZB"
      },
      "source": [
        "model.compile(optimizer='adam',loss='sparse_categorical_crossentropy',metrics=['accuracy'])"
      ],
      "execution_count": 33,
      "outputs": []
    },
    {
      "cell_type": "markdown",
      "metadata": {
        "id": "RqMuDmk3lGnh"
      },
      "source": [
        "## Task 7: Training the Model"
      ]
    },
    {
      "cell_type": "code",
      "metadata": {
        "id": "j0Ssl4qupt22",
        "colab": {
          "base_uri": "https://localhost:8080/"
        },
        "outputId": "24420a08-bddf-4459-8b86-3306f7cb8f9c"
      },
      "source": [
        "history=model.fit(x_train,y_train,epochs=50,\n",
        "                  verbose=1,\n",
        "                  validation_data=(x_test,y_test),\n",
        "                  callbacks=[tf.keras.callbacks.EarlyStopping(monitor='val_accuracy',patience=3)])"
      ],
      "execution_count": 34,
      "outputs": [
        {
          "output_type": "stream",
          "text": [
            "Epoch 1/50\n",
            "2207/2207 [==============================] - 30s 11ms/step - loss: 2.8499 - accuracy: 0.1528 - val_loss: 2.5198 - val_accuracy: 0.2365\n",
            "Epoch 2/50\n",
            "2207/2207 [==============================] - 24s 11ms/step - loss: 2.5170 - accuracy: 0.2351 - val_loss: 2.4822 - val_accuracy: 0.2562\n",
            "Epoch 3/50\n",
            "2207/2207 [==============================] - 24s 11ms/step - loss: 2.4404 - accuracy: 0.2620 - val_loss: 2.3943 - val_accuracy: 0.2715\n",
            "Epoch 4/50\n",
            "2207/2207 [==============================] - 24s 11ms/step - loss: 2.3687 - accuracy: 0.2829 - val_loss: 2.3443 - val_accuracy: 0.2925\n",
            "Epoch 5/50\n",
            "2207/2207 [==============================] - 24s 11ms/step - loss: 2.3210 - accuracy: 0.2954 - val_loss: 2.3137 - val_accuracy: 0.3014\n",
            "Epoch 6/50\n",
            "2207/2207 [==============================] - 23s 11ms/step - loss: 2.2650 - accuracy: 0.3115 - val_loss: 2.2612 - val_accuracy: 0.3162\n",
            "Epoch 7/50\n",
            "2207/2207 [==============================] - 24s 11ms/step - loss: 2.2084 - accuracy: 0.3331 - val_loss: 2.2516 - val_accuracy: 0.3194\n",
            "Epoch 8/50\n",
            "2207/2207 [==============================] - 23s 11ms/step - loss: 2.1714 - accuracy: 0.3386 - val_loss: 2.2192 - val_accuracy: 0.3294\n",
            "Epoch 9/50\n",
            "2207/2207 [==============================] - 24s 11ms/step - loss: 2.1379 - accuracy: 0.3511 - val_loss: 2.1872 - val_accuracy: 0.3435\n",
            "Epoch 10/50\n",
            "2207/2207 [==============================] - 24s 11ms/step - loss: 2.0982 - accuracy: 0.3630 - val_loss: 2.1750 - val_accuracy: 0.3440\n",
            "Epoch 11/50\n",
            "2207/2207 [==============================] - 24s 11ms/step - loss: 2.0693 - accuracy: 0.3730 - val_loss: 2.1623 - val_accuracy: 0.3526\n",
            "Epoch 12/50\n",
            "2207/2207 [==============================] - 24s 11ms/step - loss: 2.0332 - accuracy: 0.3851 - val_loss: 2.1437 - val_accuracy: 0.3619\n",
            "Epoch 13/50\n",
            "2207/2207 [==============================] - 24s 11ms/step - loss: 2.0047 - accuracy: 0.3926 - val_loss: 2.1329 - val_accuracy: 0.3628\n",
            "Epoch 14/50\n",
            "2207/2207 [==============================] - 24s 11ms/step - loss: 1.9837 - accuracy: 0.3998 - val_loss: 2.1370 - val_accuracy: 0.3629\n",
            "Epoch 15/50\n",
            "2207/2207 [==============================] - 24s 11ms/step - loss: 1.9588 - accuracy: 0.4077 - val_loss: 2.1139 - val_accuracy: 0.3709\n",
            "Epoch 16/50\n",
            "2207/2207 [==============================] - 24s 11ms/step - loss: 1.9276 - accuracy: 0.4183 - val_loss: 2.1264 - val_accuracy: 0.3684\n",
            "Epoch 17/50\n",
            "2207/2207 [==============================] - 25s 11ms/step - loss: 1.8972 - accuracy: 0.4271 - val_loss: 2.1262 - val_accuracy: 0.3692\n",
            "Epoch 18/50\n",
            "2207/2207 [==============================] - 25s 11ms/step - loss: 1.8825 - accuracy: 0.4303 - val_loss: 2.1053 - val_accuracy: 0.3765\n",
            "Epoch 19/50\n",
            "2207/2207 [==============================] - 24s 11ms/step - loss: 1.8555 - accuracy: 0.4367 - val_loss: 2.0921 - val_accuracy: 0.3827\n",
            "Epoch 20/50\n",
            "2207/2207 [==============================] - 24s 11ms/step - loss: 1.8306 - accuracy: 0.4466 - val_loss: 2.1045 - val_accuracy: 0.3793\n",
            "Epoch 21/50\n",
            "2207/2207 [==============================] - 24s 11ms/step - loss: 1.8249 - accuracy: 0.4478 - val_loss: 2.0989 - val_accuracy: 0.3854\n",
            "Epoch 22/50\n",
            "2207/2207 [==============================] - 24s 11ms/step - loss: 1.7962 - accuracy: 0.4578 - val_loss: 2.0967 - val_accuracy: 0.3884\n",
            "Epoch 23/50\n",
            "2207/2207 [==============================] - 24s 11ms/step - loss: 1.7740 - accuracy: 0.4639 - val_loss: 2.0950 - val_accuracy: 0.3906\n",
            "Epoch 24/50\n",
            "2207/2207 [==============================] - 24s 11ms/step - loss: 1.7777 - accuracy: 0.4626 - val_loss: 2.0983 - val_accuracy: 0.3923\n",
            "Epoch 25/50\n",
            "2207/2207 [==============================] - 24s 11ms/step - loss: 1.7492 - accuracy: 0.4717 - val_loss: 2.0952 - val_accuracy: 0.3917\n",
            "Epoch 26/50\n",
            "2207/2207 [==============================] - 24s 11ms/step - loss: 1.7330 - accuracy: 0.4758 - val_loss: 2.1069 - val_accuracy: 0.3910\n",
            "Epoch 27/50\n",
            "2207/2207 [==============================] - 24s 11ms/step - loss: 1.7165 - accuracy: 0.4809 - val_loss: 2.1056 - val_accuracy: 0.3927\n",
            "Epoch 28/50\n",
            "2207/2207 [==============================] - 23s 11ms/step - loss: 1.7105 - accuracy: 0.4825 - val_loss: 2.0997 - val_accuracy: 0.3947\n",
            "Epoch 29/50\n",
            "2207/2207 [==============================] - 23s 11ms/step - loss: 1.6869 - accuracy: 0.4865 - val_loss: 2.1183 - val_accuracy: 0.3915\n",
            "Epoch 30/50\n",
            "2207/2207 [==============================] - 24s 11ms/step - loss: 1.6769 - accuracy: 0.4921 - val_loss: 2.1140 - val_accuracy: 0.3941\n",
            "Epoch 31/50\n",
            "2207/2207 [==============================] - 24s 11ms/step - loss: 1.6618 - accuracy: 0.4972 - val_loss: 2.1264 - val_accuracy: 0.3890\n"
          ],
          "name": "stdout"
        }
      ]
    },
    {
      "cell_type": "markdown",
      "metadata": {
        "id": "iTkYXpzJlGnh"
      },
      "source": [
        "## Task 8: Generate Names!"
      ]
    },
    {
      "cell_type": "code",
      "metadata": {
        "id": "9f50aTRcpt24"
      },
      "source": [
        "def generate_name(seed):\n",
        "  for i in range(40):\n",
        "    seq=seq_maker(seed)\n",
        "    padded=tf.keras.preprocessing.sequence.pad_sequences([seq],maxlen=max_length-1,padding='pre',truncating='pre')\n",
        "    pred=model.predict_classes(padded)[0]\n",
        "    pred_char=index_to_char[pred]\n",
        "    seed+=pred_char\n",
        "    if pred_char=='\\t':\n",
        "      break\n",
        "  print(seed)  "
      ],
      "execution_count": 42,
      "outputs": []
    },
    {
      "cell_type": "code",
      "metadata": {
        "id": "faQ0FInlpt26",
        "colab": {
          "base_uri": "https://localhost:8080/"
        },
        "outputId": "a81754d3-1779-4446-f801-d5a26e17f91b"
      },
      "source": [
        "generate_name('r')"
      ],
      "execution_count": 43,
      "outputs": [
        {
          "output_type": "stream",
          "text": [
            "/usr/local/lib/python3.7/dist-packages/tensorflow/python/keras/engine/sequential.py:450: UserWarning: `model.predict_classes()` is deprecated and will be removed after 2021-01-01. Please use instead:* `np.argmax(model.predict(x), axis=-1)`,   if your model does multi-class classification   (e.g. if it uses a `softmax` last-layer activation).* `(model.predict(x) > 0.5).astype(\"int32\")`,   if your model does binary classification   (e.g. if it uses a `sigmoid` last-layer activation).\n",
            "  warnings.warn('`model.predict_classes()` is deprecated and '\n"
          ],
          "name": "stderr"
        },
        {
          "output_type": "stream",
          "text": [
            "red shider\t\n"
          ],
          "name": "stdout"
        }
      ]
    }
  ]
}